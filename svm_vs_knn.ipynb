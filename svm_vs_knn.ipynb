{
  "cells": [
    {
      "cell_type": "code",
      "execution_count": 1,
      "metadata": {
        "id": "Ss-weupnRPty"
      },
      "outputs": [],
      "source": [
        "# Import library\n",
        "import os\n",
        "import numpy as np\n",
        "import pandas as pd\n",
        "import cv2\n",
        "from PIL import Image\n",
        "from skimage.feature import local_binary_pattern, graycomatrix, graycoprops\n",
        "from sklearn.model_selection import train_test_split, GridSearchCV, StratifiedKFold\n",
        "from sklearn.neighbors import KNeighborsClassifier\n",
        "from sklearn.svm import SVC\n",
        "from sklearn.metrics import accuracy_score, classification_report, confusion_matrix, roc_curve, auc\n",
        "from sklearn.preprocessing import StandardScaler\n",
        "from sklearn.decomposition import PCA\n",
        "import matplotlib.pyplot as plt\n",
        "import seaborn as sns\n",
        "from google.colab import drive\n",
        "import zipfile"
      ]
    },
    {
      "cell_type": "code",
      "execution_count": 2,
      "metadata": {
        "id": "bMcCGIW79HTQ"
      },
      "outputs": [],
      "source": [
        "# Set random seed untuk reproduktibilitas\n",
        "np.random.seed(42)"
      ]
    },
    {
      "cell_type": "code",
      "execution_count": 3,
      "metadata": {
        "colab": {
          "base_uri": "https://localhost:8080/"
        },
        "id": "QzGZYwJxpnlh",
        "outputId": "57679157-c6c5-4f0b-aa65-add8ab23021a"
      },
      "outputs": [
        {
          "output_type": "stream",
          "name": "stdout",
          "text": [
            "Mounted at /content/drive\n"
          ]
        }
      ],
      "source": [
        "drive.mount('/content/drive', force_remount=True)"
      ]
    },
    {
      "cell_type": "code",
      "execution_count": 4,
      "metadata": {
        "colab": {
          "base_uri": "https://localhost:8080/"
        },
        "id": "U668Lb6UumbC",
        "outputId": "8ccbed65-7db3-4d13-a8f9-bb3d07926dd6"
      },
      "outputs": [
        {
          "output_type": "stream",
          "name": "stdout",
          "text": [
            "Dataset berhasil diekstrak\n"
          ]
        }
      ],
      "source": [
        "dataset_path = '/content/drive/MyDrive/dataset/data_udang.zip'\n",
        "extract_to = '/content/dataset'\n",
        "\n",
        "if not os.path.exists(extract_to):\n",
        "    os.makedirs(extract_to)\n",
        "    with zipfile.ZipFile(dataset_path, 'r') as zip_ref:\n",
        "        zip_ref.extractall(extract_to)\n",
        "    print(\"Dataset berhasil diekstrak\")\n",
        "else:\n",
        "    print(\"Folder dataset sudah ada\")"
      ]
    },
    {
      "cell_type": "code",
      "execution_count": 5,
      "metadata": {
        "colab": {
          "base_uri": "https://localhost:8080/"
        },
        "id": "gjSsplRiwb5E",
        "outputId": "6e8c0acd-417a-4fca-a80d-9a49a534a004"
      },
      "outputs": [
        {
          "output_type": "stream",
          "name": "stdout",
          "text": [
            "Archive:  /content/drive/MyDrive/dataset/data_udang.zip\n",
            "caution: filename not matched:  ShrimpDiseaseImageBD An Image Dataset for Computer Vision-Based Detection of Shrimp Diseases in Bangladesh/Root/Raw Images/Raw Images/*\n"
          ]
        }
      ],
      "source": [
        "# Create Target Folder\n",
        "!mkdir -p /content/dataset/raw_images_only\n",
        "\n",
        "# Extract only the \"Raw Images\" folder\n",
        "!unzip -o \"/content/drive/MyDrive/dataset/data_udang.zip\" \\\n",
        "\"ShrimpDiseaseImageBD An Image Dataset for Computer Vision-Based Detection of Shrimp Diseases in Bangladesh/Root/Raw Images/Raw Images/*\" \\\n",
        "-d /content/dataset/raw_images_only"
      ]
    },
    {
      "cell_type": "code",
      "execution_count": 6,
      "metadata": {
        "id": "05v5LhjtvKdR"
      },
      "outputs": [],
      "source": [
        "base_path = '/content/dataset/data_udang'\n",
        "\n",
        "# Verifikasi path\n",
        "if not os.path.exists(base_path):\n",
        "    print(\"\\nStruktur folder yang ditemukan:\")\n",
        "    !find /content/dataset -maxdepth 4 -type d\n",
        "    raise ValueError(\"Path tidak valid. Sesuaikan dengan struktur di atas\")"
      ]
    },
    {
      "cell_type": "code",
      "execution_count": 7,
      "metadata": {
        "id": "1sePikFQ5A-w"
      },
      "outputs": [],
      "source": [
        "# Load Dataset\n",
        "base_path = '/content/dataset/data_udang'\n",
        "folders = ['1. Healthy', '2. BG', '3. WSSV', '4. WSSV_BG']\n",
        "label_map = {'1. Healthy': 0, '2. BG': 1, '3. WSSV': 1, '4. WSSV_BG': 1}  # 0=sehat, 1=sakit"
      ]
    },
    {
      "cell_type": "code",
      "source": [
        "def load_images():\n",
        "    images = []\n",
        "    labels = []\n",
        "    filenames = []\n",
        "    for folder in folders:\n",
        "        folder_path = os.path.join(base_path, folder)\n",
        "        for img_file in os.listdir(folder_path):\n",
        "            img_path = os.path.join(folder_path, img_file)\n",
        "            try:\n",
        "                img = Image.open(img_path).convert('RGB').resize((128, 128))\n",
        "                images.append(np.array(img))\n",
        "                labels.append(label_map[folder])\n",
        "                filenames.append(img_file)\n",
        "            except Exception as e:\n",
        "                print(f\"Error loading {img_path}: {str(e)}\")\n",
        "                continue\n",
        "    return np.array(images), np.array(labels), filenames\n",
        "\n",
        "X, y, filenames = load_images()\n",
        "print(f\"Total gambar: {len(X)}\")\n",
        "print(f\"Distribusi kelas: Sehat={sum(y==0)}, Sakit={sum(y==1)}\")"
      ],
      "metadata": {
        "colab": {
          "base_uri": "https://localhost:8080/"
        },
        "id": "dxGj6RzCLK9D",
        "outputId": "63c6afce-b467-4993-f102-81a51fe067d2"
      },
      "execution_count": 8,
      "outputs": [
        {
          "output_type": "stream",
          "name": "stdout",
          "text": [
            "Total gambar: 1149\n",
            "Distribusi kelas: Sehat=403, Sakit=746\n"
          ]
        }
      ]
    },
    {
      "cell_type": "markdown",
      "source": [
        "## Ekstrasi Fitur (LBP+GLCM)"
      ],
      "metadata": {
        "id": "4HOdNvL4KThl"
      }
    },
    {
      "cell_type": "code",
      "source": [
        "def extract_features(images):\n",
        "    lbp_features = []\n",
        "    glcm_features = []\n",
        "    radius = 3\n",
        "    n_points = 8 * radius\n",
        "    METHOD = 'uniform'\n",
        "\n",
        "    for img in images:\n",
        "        gray = cv2.cvtColor(img, cv2.COLOR_RGB2GRAY)\n",
        "\n",
        "        # LBP\n",
        "        lbp = local_binary_pattern(gray, n_points, radius, METHOD)\n",
        "        hist, _ = np.histogram(lbp, bins=np.arange(0, n_points + 3), range=(0, n_points + 2))\n",
        "        hist = hist.astype(\"float\")\n",
        "        hist /= (hist.sum() + 1e-6)\n",
        "        lbp_features.append(hist)\n",
        "\n",
        "        # GLCM\n",
        "        glcm = graycomatrix(gray, distances=[1], angles=[0], levels=256, symmetric=True, normed=True)\n",
        "        glcm_props = []\n",
        "        glcm_props.extend(graycoprops(glcm, 'contrast').ravel())\n",
        "        glcm_props.extend(graycoprops(glcm, 'correlation').ravel())\n",
        "        glcm_props.extend(graycoprops(glcm, 'energy').ravel())\n",
        "        glcm_props.extend(graycoprops(glcm, 'homogeneity').ravel())\n",
        "        glcm_features.append(glcm_props)\n",
        "\n",
        "    return np.hstack([np.array(lbp_features), np.array(glcm_features)])\n",
        "\n",
        "print(\"Ekstraksi fitur LBP+GLCM...\")\n",
        "features = extract_features(X)\n",
        "print(\"Shape fitur:\", features.shape)"
      ],
      "metadata": {
        "colab": {
          "base_uri": "https://localhost:8080/"
        },
        "id": "QyN2bBm1KL9m",
        "outputId": "ef7ca49b-3f19-4313-88c7-7871e01d4d95"
      },
      "execution_count": null,
      "outputs": [
        {
          "output_type": "stream",
          "name": "stdout",
          "text": [
            "Ekstraksi fitur LBP+GLCM...\n"
          ]
        }
      ]
    },
    {
      "cell_type": "code",
      "execution_count": null,
      "metadata": {
        "id": "I5L7vjt6Sprq"
      },
      "outputs": [],
      "source": [
        "# Preprocessing\n",
        "scaler = StandardScaler()\n",
        "features_scaled = scaler.fit_transform(features)\n",
        "\n",
        "n_components = min(50, features.shape[1]-1)\n",
        "pca = PCA(n_components=n_components, random_state=42)\n",
        "features_pca = pca.fit_transform(features_scaled)\n",
        "print(f\"\\nMenggunakan {n_components} komponen PCA\")"
      ]
    },
    {
      "cell_type": "markdown",
      "source": [
        "## SVM"
      ],
      "metadata": {
        "id": "zPBr83vGK0Df"
      }
    },
    {
      "cell_type": "code",
      "source": [
        "# Split data untuk GridSearchCV\n",
        "X_train, X_test, y_train, y_test, filenames_train, filenames_test, train_indices, test_indices = train_test_split(\n",
        "    features_pca, y, filenames, range(len(X)), test_size=0.2, stratify=y, random_state=42)"
      ],
      "metadata": {
        "id": "ONOMIZ3zK5h-"
      },
      "execution_count": null,
      "outputs": []
    },
    {
      "cell_type": "code",
      "source": [
        "# Parameter Grid untuk SVM\n",
        "param_grid_svm = {\n",
        "    'C': [0.1, 1, 10, 100],\n",
        "    'gamma': [0.0001, 0.001, 0.01, 0.1],\n",
        "    'kernel': ['rbf', 'linear']\n",
        "}"
      ],
      "metadata": {
        "id": "-m7z4oLhLw07"
      },
      "execution_count": null,
      "outputs": []
    },
    {
      "cell_type": "code",
      "source": [
        "# Inisialisasi GridSearchCV SVM\n",
        "svm_model = SVC(probability=True, random_state=42)\n",
        "grid_svm = GridSearchCV(svm_model, param_grid_svm, cv=5, scoring='accuracy', n_jobs=-1, verbose=1)"
      ],
      "metadata": {
        "id": "T-P7PDBwLzhc"
      },
      "execution_count": null,
      "outputs": []
    },
    {
      "cell_type": "code",
      "source": [
        "# Training SVM\n",
        "print(\"\\n=== Training SVM ===\")\n",
        "grid_svm.fit(X_train, y_train)\n",
        "best_svm = grid_svm.best_estimator_"
      ],
      "metadata": {
        "id": "Jx_0MuMJMDGP"
      },
      "execution_count": null,
      "outputs": []
    },
    {
      "cell_type": "code",
      "source": [
        "# Prediksi\n",
        "y_pred_svm = best_svm.predict(X_test)"
      ],
      "metadata": {
        "id": "vLaQXZg3MKiM"
      },
      "execution_count": null,
      "outputs": []
    },
    {
      "cell_type": "code",
      "source": [
        "# Akurasi\n",
        "acc_svm = accuracy_score(y_test, y_pred_svm)\n",
        "print(\"\\n=== Hasil Evaluasi ===\")\n",
        "print(f\"Akurasi SVM: {acc_svm:.4f}\")"
      ],
      "metadata": {
        "id": "gh3BgenoMKey"
      },
      "execution_count": null,
      "outputs": []
    },
    {
      "cell_type": "code",
      "source": [
        "# Classification Report\n",
        "print(\"\\nClassification Report (SVM):\")\n",
        "print(classification_report(y_test, y_pred_svm, target_names=['Sehat', 'Sakit']))"
      ],
      "metadata": {
        "id": "bGsV2RCWMYjt"
      },
      "execution_count": null,
      "outputs": []
    },
    {
      "cell_type": "code",
      "execution_count": null,
      "metadata": {
        "id": "UV9XOA_jvhPG"
      },
      "outputs": [],
      "source": [
        "# Confusion Matrix SVM\n",
        "plt.figure(figsize=(6, 4))\n",
        "cm_svm = confusion_matrix(y_test, y_pred_svm)\n",
        "sns.heatmap(cm_svm, annot=True, fmt='d', cmap='Oranges',\n",
        "            xticklabels=['Sehat', 'Sakit'],\n",
        "            yticklabels=['Sehat', 'Sakit'])\n",
        "plt.title('Confusion Matrix SVM', fontsize=14)\n",
        "\n",
        "plt.tight_layout()\n",
        "plt.show()"
      ]
    },
    {
      "cell_type": "markdown",
      "source": [
        "## KNN\n"
      ],
      "metadata": {
        "id": "EXzwnmlcfTdS"
      }
    },
    {
      "cell_type": "code",
      "source": [
        "# Parameter Grid untuk KNN\n",
        "param_grid_knn = {\n",
        "    'n_neighbors': [3, 5, 7, 9, 11],\n",
        "    'weights': ['uniform', 'distance'],\n",
        "    'metric': ['euclidean', 'manhattan']\n",
        "}"
      ],
      "metadata": {
        "id": "LkvNPfgrNMap"
      },
      "execution_count": null,
      "outputs": []
    },
    {
      "cell_type": "code",
      "source": [
        "# Inisialisasi GridSearchCV KNN\n",
        "knn = KNeighborsClassifier()\n",
        "grid_knn = GridSearchCV(knn, param_grid_knn, cv=5, scoring='accuracy', n_jobs=-1, verbose=1)"
      ],
      "metadata": {
        "id": "8a3xVF4sNP8Y"
      },
      "execution_count": null,
      "outputs": []
    },
    {
      "cell_type": "code",
      "source": [
        "# Training KNN\n",
        "print(\"\\n=== Training KNN ===\")\n",
        "grid_knn.fit(X_train, y_train)\n",
        "best_knn = grid_knn.best_estimator_"
      ],
      "metadata": {
        "id": "sJHHlGPjNWly"
      },
      "execution_count": null,
      "outputs": []
    },
    {
      "cell_type": "code",
      "source": [
        "# Prediksi\n",
        "y_pred_knn = best_knn.predict(X_test)"
      ],
      "metadata": {
        "id": "KdVPNujCNWiX"
      },
      "execution_count": null,
      "outputs": []
    },
    {
      "cell_type": "code",
      "source": [
        "# Akurasi\n",
        "acc_knn = accuracy_score(y_test, y_pred_knn)\n",
        "print(\"\\n=== Hasil Evaluasi ===\")\n",
        "print(f\"Akurasi KNN: {acc_knn:.4f}\")"
      ],
      "metadata": {
        "id": "Zpmh8nwCNcyS"
      },
      "execution_count": null,
      "outputs": []
    },
    {
      "cell_type": "code",
      "source": [
        "# Classification Report\n",
        "print(\"\\nClassification Report (KNN):\")\n",
        "print(classification_report(y_test, y_pred_knn, target_names=['Sehat', 'Sakit']))"
      ],
      "metadata": {
        "id": "_6fEaN5yNcu6"
      },
      "execution_count": null,
      "outputs": []
    },
    {
      "cell_type": "code",
      "source": [
        "# Confusion Matrix\n",
        "plt.figure(figsize=(6, 4))\n",
        "cm_knn = confusion_matrix(y_test, y_pred_knn)\n",
        "sns.heatmap(cm_knn, annot=True, fmt='d', cmap='Blues',\n",
        "            xticklabels=['Healthy', 'Diseased'],\n",
        "            yticklabels=['Healthy', 'Diseased'])\n",
        "plt.title('KNN Confusion Matrix')\n",
        "plt.show()"
      ],
      "metadata": {
        "id": "9rbm3dxbffY2"
      },
      "execution_count": null,
      "outputs": []
    },
    {
      "cell_type": "markdown",
      "source": [
        "## ROC Curve"
      ],
      "metadata": {
        "id": "CdDLXHWiOHQK"
      }
    },
    {
      "cell_type": "code",
      "source": [
        "# Probabilitas Prediksi\n",
        "y_proba_knn = best_knn.predict_proba(X_test)[:, 1]\n",
        "y_proba_svm = best_svm.predict_proba(X_test)[:, 1]"
      ],
      "metadata": {
        "id": "Dn8IAG7TOEV-"
      },
      "execution_count": null,
      "outputs": []
    },
    {
      "cell_type": "code",
      "source": [
        "# ROC Curve\n",
        "fpr_knn, tpr_knn, _ = roc_curve(y_test, y_proba_knn)\n",
        "fpr_svm, tpr_svm, _ = roc_curve(y_test, y_proba_svm)\n",
        "roc_auc_knn = auc(fpr_knn, tpr_knn)\n",
        "roc_auc_svm = auc(fpr_svm, tpr_svm)\n",
        "\n",
        "plt.figure(figsize=(8, 6))\n",
        "plt.plot(fpr_knn, tpr_knn, label=f'KNN (AUC = {roc_auc_knn:.2f})', color='blue')\n",
        "plt.plot(fpr_svm, tpr_svm, label=f'SVM (AUC = {roc_auc_svm:.2f})', color='red')\n",
        "plt.plot([0, 1], [0, 1], 'k--')\n",
        "plt.xlabel('False Positive Rate', fontsize=12)\n",
        "plt.ylabel('True Positive Rate', fontsize=12)\n",
        "plt.title('ROC Curve: KNN vs SVM', fontsize=14)\n",
        "plt.legend(fontsize=12)\n",
        "plt.grid(True, alpha=0.3)\n",
        "plt.show()"
      ],
      "metadata": {
        "id": "amTIR6A4OEKg"
      },
      "execution_count": null,
      "outputs": []
    },
    {
      "cell_type": "code",
      "source": [
        "# Perbandingan Akurasi\n",
        "plt.figure(figsize=(6, 5))\n",
        "plt.bar(['KNN', 'SVM'], [acc_knn, acc_svm], color=['blue', 'red'])\n",
        "plt.ylim(0, 1)\n",
        "plt.ylabel('Accuracy', fontsize=12)\n",
        "plt.title('Perbandingan Akurasi KNN vs SVM', fontsize=14)\n",
        "for i, v in enumerate([acc_knn, acc_svm]):\n",
        "    plt.text(i, v + 0.02, f\"{v:.4f}\", ha='center', fontsize=12)\n",
        "plt.show()"
      ],
      "metadata": {
        "id": "dVSkn_FyOPQG"
      },
      "execution_count": null,
      "outputs": []
    },
    {
      "cell_type": "markdown",
      "source": [
        "## Visualisasi"
      ],
      "metadata": {
        "id": "U5aq-YdOP95v"
      }
    },
    {
      "cell_type": "code",
      "source": [
        "from matplotlib.patches import Rectangle\n",
        "\n",
        "def visualize_svm_predictions(images, test_indices, y_true, y_pred, n_samples=5):\n",
        "    \"\"\"Visualisasi khusus untuk prediksi SVM\"\"\"\n",
        "    y_true = np.array(y_true).flatten()\n",
        "    y_pred = np.array(y_pred).flatten()\n",
        "    test_images = images[test_indices]\n",
        "\n",
        "    correct_idx = np.where(y_pred == y_true)[0]\n",
        "    incorrect_idx = np.where(y_pred != y_true)[0]\n",
        "\n",
        "    # Fungsi konversi label\n",
        "    def get_label(val):\n",
        "        return 'Sehat' if val == 0 else 'Sakit'\n",
        "\n",
        "    # --- Prediksi Benar SVM ---\n",
        "    if len(correct_idx) > 0:\n",
        "        plt.figure(figsize=(20, 5))\n",
        "        plt.suptitle('CONTOH PREDIKSI BENAR (SVM)', fontsize=18, y=1.05, fontweight='bold')\n",
        "\n",
        "        for i in range(min(n_samples, len(correct_idx))):\n",
        "            ax = plt.subplot(1, n_samples, i+1)\n",
        "            img = test_images[correct_idx[i]]\n",
        "\n",
        "            if img.ndim == 2:\n",
        "                img = np.stack((img,)*3, axis=-1)\n",
        "\n",
        "            ax.imshow(img)\n",
        "            # Border hijau tebal\n",
        "            ax.add_patch(Rectangle((0,0), img.shape[1], img.shape[0],\n",
        "                         linewidth=12, edgecolor='#2ecc71', facecolor='none'))\n",
        "\n",
        "            plt.title(f\"AKTUAL: {get_label(y_true[correct_idx[i]])}\\nPREDIKSI: {get_label(y_pred[correct_idx[i]])}\",\n",
        "                     fontsize=12, pad=12)\n",
        "            plt.axis('off')\n",
        "\n",
        "        plt.tight_layout()\n",
        "        plt.show()\n",
        "\n",
        "    # --- Prediksi Salah SVM ---\n",
        "    if len(incorrect_idx) > 0:\n",
        "        plt.figure(figsize=(20, 5))\n",
        "        plt.suptitle('CONTOH PREDIKSI SALAH (SVM)', fontsize=18, y=1.05, fontweight='bold', color='red')\n",
        "\n",
        "        for i in range(min(n_samples, len(incorrect_idx))):\n",
        "            ax = plt.subplot(1, n_samples, i+1)\n",
        "            img = test_images[incorrect_idx[i]]\n",
        "\n",
        "            if img.ndim == 2:\n",
        "                img = np.stack((img,)*3, axis=-1)\n",
        "\n",
        "            ax.imshow(img)\n",
        "            # Border merah tebal\n",
        "            ax.add_patch(Rectangle((0,0), img.shape[1], img.shape[0],\n",
        "                         linewidth=12, edgecolor='#e74c3c', facecolor='none'))\n",
        "\n",
        "            plt.title(f\"AKTUAL: {get_label(y_true[incorrect_idx[i]])}\\nPREDIKSI: {get_label(y_pred[incorrect_idx[i]])}\",\n",
        "                     fontsize=12, pad=12, color='red')\n",
        "            plt.axis('off')\n",
        "\n",
        "        plt.tight_layout()\n",
        "        plt.show()\n",
        "    else:\n",
        "        print(\"\\nSVM: Tidak ada prediksi salah pada data test!\")\n",
        "\n",
        "# Panggil fungsi visualisasi SVM\n",
        "print(\"\\n\" + \"=\"*70)\n",
        "print(\"VISUALISASI HASIL PREDIKSI SVM\".center(70))\n",
        "print(\"=\"*70)\n",
        "visualize_svm_predictions(X, test_indices, y_test, y_pred_svm)"
      ],
      "metadata": {
        "id": "1GqkL4uAOwG7"
      },
      "execution_count": null,
      "outputs": []
    },
    {
      "cell_type": "code",
      "source": [
        "from matplotlib.patches import Rectangle\n",
        "\n",
        "def visualize_knn_predictions(images, test_indices, y_true, y_pred, n_samples=5):\n",
        "    \"\"\"Visualisasi khusus untuk prediksi KNN\"\"\"\n",
        "    y_true = np.array(y_true).flatten()\n",
        "    y_pred = np.array(y_pred).flatten()\n",
        "    test_images = images[test_indices]\n",
        "\n",
        "    correct_idx = np.where(y_pred == y_true)[0]\n",
        "    incorrect_idx = np.where(y_pred != y_true)[0]\n",
        "\n",
        "    # Fungsi konversi label\n",
        "    def get_label(val):\n",
        "        return 'Sehat' if val == 0 else 'Sakit'\n",
        "\n",
        "    # --- Prediksi Benar KNN ---\n",
        "    if len(correct_idx) > 0:\n",
        "        plt.figure(figsize=(20, 5))\n",
        "        plt.suptitle('CONTOH PREDIKSI BENAR (KNN)', fontsize=18, y=1.05, fontweight='bold')\n",
        "\n",
        "        for i in range(min(n_samples, len(correct_idx))):\n",
        "            ax = plt.subplot(1, n_samples, i+1)\n",
        "            img = test_images[correct_idx[i]]\n",
        "\n",
        "            if img.ndim == 2:\n",
        "                img = np.stack((img,)*3, axis=-1)\n",
        "\n",
        "            ax.imshow(img)\n",
        "            # Border biru tebal\n",
        "            ax.add_patch(Rectangle((0,0), img.shape[1], img.shape[0],\n",
        "                         linewidth=12, edgecolor='#3498db', facecolor='none'))\n",
        "\n",
        "            plt.title(f\"AKTUAL: {get_label(y_true[correct_idx[i]])}\\nPREDIKSI: {get_label(y_pred[correct_idx[i]])}\",\n",
        "                     fontsize=12, pad=12)\n",
        "            plt.axis('off')\n",
        "\n",
        "        plt.tight_layout()\n",
        "        plt.show()\n",
        "\n",
        "    # --- Prediksi Salah KNN ---\n",
        "    if len(incorrect_idx) > 0:\n",
        "        plt.figure(figsize=(20, 5))\n",
        "        plt.suptitle('CONTOH PREDIKSI SALAH (KNN)', fontsize=18, y=1.05, fontweight='bold', color='red')\n",
        "\n",
        "        for i in range(min(n_samples, len(incorrect_idx))):\n",
        "            ax = plt.subplot(1, n_samples, i+1)\n",
        "            img = test_images[incorrect_idx[i]]\n",
        "\n",
        "            if img.ndim == 2:\n",
        "                img = np.stack((img,)*3, axis=-1)\n",
        "\n",
        "            ax.imshow(img)\n",
        "            # Border oranye tebal\n",
        "            ax.add_patch(Rectangle((0,0), img.shape[1], img.shape[0],\n",
        "                         linewidth=12, edgecolor='#f39c12', facecolor='none'))\n",
        "\n",
        "            plt.title(f\"AKTUAL: {get_label(y_true[incorrect_idx[i]])}\\nPREDIKSI: {get_label(y_pred[incorrect_idx[i]])}\",\n",
        "                     fontsize=12, pad=12, color='red')\n",
        "            plt.axis('off')\n",
        "\n",
        "        plt.tight_layout()\n",
        "        plt.show()\n",
        "    else:\n",
        "        print(\"\\nKNN: Tidak ada prediksi salah pada data test!\")\n",
        "\n",
        "# Panggil fungsi visualisasi KNN\n",
        "print(\"\\n\" + \"=\"*70)\n",
        "print(\"VISUALISASI HASIL PREDIKSI KNN\".center(70))\n",
        "print(\"=\"*70)\n",
        "visualize_knn_predictions(X, test_indices, y_test, y_pred_knn)"
      ],
      "metadata": {
        "id": "oCM225QNOwDd"
      },
      "execution_count": null,
      "outputs": []
    },
    {
      "cell_type": "markdown",
      "source": [
        "## Hasil Deteksi"
      ],
      "metadata": {
        "id": "EPOR5-fLP6L0"
      }
    },
    {
      "cell_type": "code",
      "source": [
        "# Gabungkan hasil prediksi KNN & SVM\n",
        "results_df = pd.DataFrame({\n",
        "    'Filename': filenames_test,\n",
        "    'True_Label': y_test,\n",
        "    'KNN_Prediction': y_pred_knn,\n",
        "    'SVM_Prediction': y_pred_svm,\n",
        "    'KNN_Probability_Sakit': y_proba_knn,\n",
        "    'SVM_Probability_Sakit': y_proba_svm\n",
        "})\n",
        "\n",
        "# Mapping label ke keterangan\n",
        "results_df['True_Class'] = results_df['True_Label'].map({0: 'Sehat', 1: 'Sakit'})\n",
        "results_df['KNN_Pred_Class'] = results_df['KNN_Prediction'].map({0: 'Sehat', 1: 'Sakit'})\n",
        "results_df['SVM_Pred_Class'] = results_df['SVM_Prediction'].map({0: 'Sehat', 1: 'Sakit'})\n",
        "\n",
        "# Simpan ke CSV\n",
        "results_df.to_csv('hasil_prediksi_udang.csv', index=False)\n",
        "print(\"Hasil prediksi disimpan di 'hasil_prediksi_udang.csv'\")"
      ],
      "metadata": {
        "id": "YxI8bbINOv_8"
      },
      "execution_count": null,
      "outputs": []
    },
    {
      "cell_type": "code",
      "source": [
        "# Tampilkan 5 baris pertama\n",
        "print(\"\\nContoh hasil prediksi:\")\n",
        "print(results_df.head())"
      ],
      "metadata": {
        "id": "VbA1B28tPQ5M"
      },
      "execution_count": null,
      "outputs": []
    },
    {
      "cell_type": "code",
      "source": [],
      "metadata": {
        "id": "af7H2R_DPTjc"
      },
      "execution_count": null,
      "outputs": []
    }
  ],
  "metadata": {
    "accelerator": "GPU",
    "colab": {
      "gpuType": "T4",
      "provenance": []
    },
    "kernelspec": {
      "display_name": "Python 3",
      "name": "python3"
    },
    "language_info": {
      "name": "python"
    }
  },
  "nbformat": 4,
  "nbformat_minor": 0
}